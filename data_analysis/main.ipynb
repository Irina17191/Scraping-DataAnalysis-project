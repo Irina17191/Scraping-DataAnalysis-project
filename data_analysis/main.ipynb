{
 "cells": [
  {
   "cell_type": "code",
   "id": "initial_id",
   "metadata": {
    "collapsed": true,
    "ExecuteTime": {
     "end_time": "2024-09-15T10:21:56.996512Z",
     "start_time": "2024-09-15T10:21:56.728352Z"
    }
   },
   "source": [
    "import pandas as pd\n",
    "import numpy as np\n",
    "import matplotlib.pyplot as plt"
   ],
   "outputs": [],
   "execution_count": 2
  },
  {
   "metadata": {
    "ExecuteTime": {
     "end_time": "2024-09-15T10:32:58.881318Z",
     "start_time": "2024-09-15T10:32:58.874296Z"
    }
   },
   "cell_type": "code",
   "source": [
    "vacancies = pd.read_csv(\"../scraper/vacancies.csv\")\n",
    "print(vacancies.head(15))"
   ],
   "id": "392bc544975e7567",
   "outputs": [
    {
     "name": "stdout",
     "output_type": "stream",
     "text": [
      "                                          title      company  \\\n",
      "0               Python Backend Engineerдо $3500     Enquirik   \n",
      "1   Python and DSP Algorithms Software Engineer       Luxoft   \n",
      "2         Junior Python/Django Developerдо $700    TeraFlops   \n",
      "3     Trainee/Junior Python Developer IRC239337  GlobalLogic   \n",
      "4                 Back-end software development        DeepX   \n",
      "5                   Python developer (Scraping)  Quintagroup   \n",
      "6              Python Developer/Architect (IoT)  Quintagroup   \n",
      "7                          Python UAV Developer      Quantum   \n",
      "8                        Middle Python Engineer     Equals 5   \n",
      "9                          Lead Python Engineer      Nucleus   \n",
      "10                      Senior Python Developer      Nucleus   \n",
      "11                   Python ML Engineerдо $3500        Elbax   \n",
      "12                             Python developer       Xedrum   \n",
      "13            Python (Django) developerдо $2000    SheepFish   \n",
      "14                      Senior Python Developer  Tabula Rasa   \n",
      "\n",
      "    experience_years  salary       english_level  \\\n",
      "0                NaN  3500.0                 NaN   \n",
      "1                5.0     NaN  Upper-Intermediate   \n",
      "2                5.0   700.0                 NaN   \n",
      "3                5.0  3500.0  Upper-Intermediate   \n",
      "4                NaN  1500.0        Intermediate   \n",
      "5                2.0     NaN  Upper-Intermediate   \n",
      "6                4.0  5000.0  Upper-Intermediate   \n",
      "7                5.0     NaN  Upper-Intermediate   \n",
      "8                2.0  2000.0        Intermediate   \n",
      "9                5.0  5000.0  Upper-Intermediate   \n",
      "10               5.0     NaN  Upper-Intermediate   \n",
      "11               5.0  3500.0                 NaN   \n",
      "12               3.0  1500.0        Intermediate   \n",
      "13               2.0  2000.0  Upper-Intermediate   \n",
      "14               4.0  3500.0                 NaN   \n",
      "\n",
      "                                      skills_required  \n",
      "0                    Python, REST, Django, ORM, SOLID  \n",
      "1   Python, Docker, Linux, algorithms, ORM, Git, R...  \n",
      "2                                      Python, Django  \n",
      "3   Python, REST, API, Docker, algorithms, microse...  \n",
      "4   Python, SQL, REST, API, Docker, PostgreSQL, Re...  \n",
      "5   Python, API, Pandas, Machine Learning, HTML, C...  \n",
      "6   Python, REST, API, Machine Learning, microserv...  \n",
      "7                             Python, algorithms, ORM  \n",
      "8   Python, SQL, REST, API, Linux, Js, ORM, Git, S...  \n",
      "9   Python, SQL, REST, API, Docker, Django, Postgr...  \n",
      "10  Python, SQL, REST, API, Docker, Js, React, SQL...  \n",
      "11                      Python, Machine Learning, ORM  \n",
      "12                               Python, API, FastAPI  \n",
      "13  Python, SQL, REST, Docker, Django, Pandas, Pos...  \n",
      "14  Python, SQL, API, Docker, PostgreSQL, Js, Reac...  \n"
     ]
    }
   ],
   "execution_count": 8
  },
  {
   "metadata": {
    "ExecuteTime": {
     "end_time": "2024-09-15T10:39:20.220686Z",
     "start_time": "2024-09-15T10:39:20.214266Z"
    }
   },
   "cell_type": "code",
   "source": [
    "# Interpolate missing values for numeric columns\n",
    "vacancies['experience_years'] = vacancies['experience_years'].interpolate()\n",
    "vacancies['salary'] = vacancies['salary'].interpolate()\n",
    "\n",
    "# Fill NaN values for categorical columns with 'Unknown'\n",
    "vacancies['english_level'] = vacancies['english_level'].fillna('Unknown')\n",
    "\n",
    "print(vacancies)"
   ],
   "id": "ace79276cf891d0e",
   "outputs": [
    {
     "name": "stdout",
     "output_type": "stream",
     "text": [
      "                                          title      company  \\\n",
      "0               Python Backend Engineerдо $3500     Enquirik   \n",
      "1   Python and DSP Algorithms Software Engineer       Luxoft   \n",
      "2         Junior Python/Django Developerдо $700    TeraFlops   \n",
      "3     Trainee/Junior Python Developer IRC239337  GlobalLogic   \n",
      "4                 Back-end software development        DeepX   \n",
      "5                   Python developer (Scraping)  Quintagroup   \n",
      "6              Python Developer/Architect (IoT)  Quintagroup   \n",
      "7                          Python UAV Developer      Quantum   \n",
      "8                        Middle Python Engineer     Equals 5   \n",
      "9                          Lead Python Engineer      Nucleus   \n",
      "10                      Senior Python Developer      Nucleus   \n",
      "11                   Python ML Engineerдо $3500        Elbax   \n",
      "12                             Python developer       Xedrum   \n",
      "13            Python (Django) developerдо $2000    SheepFish   \n",
      "14                      Senior Python Developer  Tabula Rasa   \n",
      "\n",
      "    experience_years  salary       english_level  \\\n",
      "0                NaN  3500.0             Unknown   \n",
      "1                5.0  2100.0  Upper-Intermediate   \n",
      "2                5.0   700.0             Unknown   \n",
      "3                5.0  3500.0  Upper-Intermediate   \n",
      "4                3.5  1500.0        Intermediate   \n",
      "5                2.0  3250.0  Upper-Intermediate   \n",
      "6                4.0  5000.0  Upper-Intermediate   \n",
      "7                5.0  3500.0  Upper-Intermediate   \n",
      "8                2.0  2000.0        Intermediate   \n",
      "9                5.0  5000.0  Upper-Intermediate   \n",
      "10               5.0  4250.0  Upper-Intermediate   \n",
      "11               5.0  3500.0             Unknown   \n",
      "12               3.0  1500.0        Intermediate   \n",
      "13               2.0  2000.0  Upper-Intermediate   \n",
      "14               4.0  3500.0             Unknown   \n",
      "\n",
      "                                      skills_required  \n",
      "0                    Python, REST, Django, ORM, SOLID  \n",
      "1   Python, Docker, Linux, algorithms, ORM, Git, R...  \n",
      "2                                      Python, Django  \n",
      "3   Python, REST, API, Docker, algorithms, microse...  \n",
      "4   Python, SQL, REST, API, Docker, PostgreSQL, Re...  \n",
      "5   Python, API, Pandas, Machine Learning, HTML, C...  \n",
      "6   Python, REST, API, Machine Learning, microserv...  \n",
      "7                             Python, algorithms, ORM  \n",
      "8   Python, SQL, REST, API, Linux, Js, ORM, Git, S...  \n",
      "9   Python, SQL, REST, API, Docker, Django, Postgr...  \n",
      "10  Python, SQL, REST, API, Docker, Js, React, SQL...  \n",
      "11                      Python, Machine Learning, ORM  \n",
      "12                               Python, API, FastAPI  \n",
      "13  Python, SQL, REST, Docker, Django, Pandas, Pos...  \n",
      "14  Python, SQL, API, Docker, PostgreSQL, Js, Reac...  \n"
     ]
    }
   ],
   "execution_count": 10
  },
  {
   "metadata": {},
   "cell_type": "code",
   "outputs": [],
   "execution_count": null,
   "source": "",
   "id": "44a15d1338657b69"
  }
 ],
 "metadata": {
  "kernelspec": {
   "display_name": "Python 3",
   "language": "python",
   "name": "python3"
  },
  "language_info": {
   "codemirror_mode": {
    "name": "ipython",
    "version": 2
   },
   "file_extension": ".py",
   "mimetype": "text/x-python",
   "name": "python",
   "nbconvert_exporter": "python",
   "pygments_lexer": "ipython2",
   "version": "2.7.6"
  }
 },
 "nbformat": 4,
 "nbformat_minor": 5
}
